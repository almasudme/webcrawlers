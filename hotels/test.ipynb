{
 "cells": [
  {
   "cell_type": "code",
   "execution_count": 1,
   "metadata": {},
   "outputs": [],
   "source": [
    "import json\n",
    "import pprint\n",
    "import sqlite3\n"
   ]
  },
  {
   "cell_type": "code",
   "execution_count": 2,
   "metadata": {},
   "outputs": [
    {
     "name": "stdout",
     "output_type": "stream",
     "text": [
      "7023300 Beloit Wisconsin\n"
     ]
    }
   ],
   "source": [
    "with open(\"info_cities.json\",\"r\") as f:\n",
    "    cities = json.load(f)\n",
    "\n",
    "print((len(cities))\n",
    "print(cities[-1]['location_id'],cities[-1].get('address_obj').get('city'),cities[-1].get('address_obj').get('state'))"
   ]
  },
  {
   "cell_type": "code",
   "execution_count": 39,
   "metadata": {},
   "outputs": [],
   "source": [
    "def sqlite_update(data,table):\n",
    "    db_file_name = \"hotels_data_1.db\"\n",
    "    conn = sqlite3.connect(db_file_name)\n",
    "    cursor = conn.cursor()\n",
    "    insert_str = f\"INSERT INTO reviews {str(tuple(data.keys()))} VALUES {str(tuple(data.values()))}\"\n",
    "    print(insert_str)\n",
    "    cursor.execute(insert_str)\n",
    "    cursor.close()\n",
    "    conn.close()\n",
    "\n",
    "\n",
    "data = {'contributions': '196',\n",
    " 'date': 'March 2024',\n",
    " 'helpful_votes': 39.0,\n",
    " 'hotel_name': 'Palmer House a Hilton Hotel',\n",
    " 'name': 'WI Cheese Girl',\n",
    " 'post_helpful': '2',\n",
    " 'rating': '4.0',\n",
    " 'responded_person': 'General Manager, General Manager at Palmer House a '\n",
    "                     'Hilton Hotel',\n",
    " 'response_date': '2 weeks ago',\n",
    " 'response_review': 'Dear WI Cheese Girl, Thank you for sharing your positive '\n",
    "                    \"experience at Palmer House A Hilton Hotel, and we're \"\n",
    "                    'happy to hear you enjoyed our friendly, attentive Team. '\n",
    "                    'We appreciate you spotlighting our wonderful amenities '\n",
    "                    'and cannot wait to welcome you back for another memorable '\n",
    "                    'time. Sincerely, Henry Dronelas Hotel Manager\\n'\n",
    "                    ' Report response as inappropriate\\n'\n",
    "                    ' This response is the subjective opinion of the '\n",
    "                    'management representative and not of Tripadvisor LLC.',\n",
    " 'review': 'Always the place I go to enjoy the beauty of the lobby! If I’m '\n",
    "           'lucky, there’s a wedding or party so I can people watch. It’s so '\n",
    "           'amazing in seating out at the bar. People are really friendly. The '\n",
    "           'bartenders are all business. The person next to me ordered the '\n",
    "           'Palmer Horse martini and loved it.',\n",
    " 'review_title': 'So Beautiful',\n",
    " 'time': ' Mar 2'}\n",
    "\n",
    "def sqlite_update(data,table='reviews'):\n",
    "    db_file_name = \"/home/mir/grepo/webcrawlers/hotels/hotels_data_1.db\"\n",
    "    conn = sqlite3.connect(db_file_name)\n",
    "    cursor = conn.cursor()\n",
    "    insert_str = f\"INSERT INTO reviews {str(tuple(data.keys()))} VALUES {str(tuple(data.values()))}\"\n",
    "    print(insert_str)\n",
    "    cursor.execute(insert_str)\n",
    "    conn.commit()\n",
    "    cursor.close()\n",
    "    conn.close()"
   ]
  },
  {
   "cell_type": "code",
   "execution_count": 40,
   "metadata": {},
   "outputs": [
    {
     "name": "stdout",
     "output_type": "stream",
     "text": [
      "INSERT INTO reviews ('contributions', 'date', 'helpful_votes', 'hotel_name', 'name', 'post_helpful', 'rating', 'responded_person', 'response_date', 'response_review', 'review', 'review_title', 'time') VALUES ('196', 'March 2024', 39.0, 'Palmer House a Hilton Hotel', 'WI Cheese Girl', '2', '4.0', 'General Manager, General Manager at Palmer House a Hilton Hotel', '2 weeks ago', \"Dear WI Cheese Girl, Thank you for sharing your positive experience at Palmer House A Hilton Hotel, and we're happy to hear you enjoyed our friendly, attentive Team. We appreciate you spotlighting our wonderful amenities and cannot wait to welcome you back for another memorable time. Sincerely, Henry Dronelas Hotel Manager\\n Report response as inappropriate\\n This response is the subjective opinion of the management representative and not of Tripadvisor LLC.\", 'Always the place I go to enjoy the beauty of the lobby! If I’m lucky, there’s a wedding or party so I can people watch. It’s so amazing in seating out at the bar. People are really friendly. The bartenders are all business. The person next to me ordered the Palmer Horse martini and loved it.', 'So Beautiful', ' Mar 2')\n"
     ]
    }
   ],
   "source": [
    "sqlite_update(data,table='reviews')"
   ]
  }
 ],
 "metadata": {
  "kernelspec": {
   "display_name": "webcrawlers",
   "language": "python",
   "name": "python3"
  },
  "language_info": {
   "codemirror_mode": {
    "name": "ipython",
    "version": 3
   },
   "file_extension": ".py",
   "mimetype": "text/x-python",
   "name": "python",
   "nbconvert_exporter": "python",
   "pygments_lexer": "ipython3",
   "version": "3.12.2"
  }
 },
 "nbformat": 4,
 "nbformat_minor": 2
}
