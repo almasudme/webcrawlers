{
 "cells": [
  {
   "cell_type": "code",
   "execution_count": 53,
   "metadata": {},
   "outputs": [],
   "source": [
    "import json\n",
    "import pprint\n",
    "import sqlite3\n",
    "import pandas as pd     \n"
   ]
  },
  {
   "cell_type": "code",
   "execution_count": 59,
   "metadata": {},
   "outputs": [],
   "source": [
    "df_csv1 = pd.read_csv('hotels_info_abu.csv')\n",
    "df_csv2 = pd.read_csv('hotels_info.csv')\n",
    "df1 = df_csv1[df_csv1.columns.drop(list(df_csv1.filter(regex='index')))]\n",
    "df2 = df_csv2[df_csv2.columns.drop(list(df_csv2.filter(regex='Unnamed')))]\n",
    "df1 = df1.drop(columns=['deal_summary'])\n"
   ]
  },
  {
   "cell_type": "code",
   "execution_count": 60,
   "metadata": {},
   "outputs": [
    {
     "data": {
      "text/plain": [
       "Index(['hotel_name', 'rating', 'n_reviews', 'address', 'ranking', 'about_text',\n",
       "       'amenities_list', 'contact', 'web_url', 'location_id', 'phone_number',\n",
       "       'faq_text', 'walking_grade', 'nearby_restaurants_summary',\n",
       "       'nearby_attractions_summary', 'getting_there', 'nearby_restaurants',\n",
       "       'nearby_attractions'],\n",
       "      dtype='object')"
      ]
     },
     "execution_count": 60,
     "metadata": {},
     "output_type": "execute_result"
    }
   ],
   "source": [
    "df2.columns"
   ]
  },
  {
   "cell_type": "code",
   "execution_count": 61,
   "metadata": {},
   "outputs": [
    {
     "data": {
      "text/plain": [
       "Index(['hotel_name', 'rating', 'n_reviews', 'address', 'phone_number',\n",
       "       'ranking', 'about_text', 'amenities_list', 'walking_grade',\n",
       "       'nearby_restaurants_summary', 'nearby_attractions_summary', 'contact',\n",
       "       'getting_there', 'nearby_restaurants', 'nearby_attractions',\n",
       "       'faq_text'],\n",
       "      dtype='object')"
      ]
     },
     "execution_count": 61,
     "metadata": {},
     "output_type": "execute_result"
    }
   ],
   "source": [
    "df1.columns"
   ]
  },
  {
   "cell_type": "code",
   "execution_count": 62,
   "metadata": {},
   "outputs": [
    {
     "name": "stdout",
     "output_type": "stream",
     "text": [
      "set()\n",
      "{'web_url', 'location_id'}\n"
     ]
    }
   ],
   "source": [
    "print(set(df1.columns).difference(df2.columns))\n",
    "print(set(df2.columns).difference(df1.columns))"
   ]
  },
  {
   "cell_type": "code",
   "execution_count": 63,
   "metadata": {},
   "outputs": [],
   "source": [
    "df3 = pd.concat([df1, df2])"
   ]
  },
  {
   "cell_type": "code",
   "execution_count": 66,
   "metadata": {},
   "outputs": [],
   "source": [
    "conn = sqlite3.connect(\"hotels_data.db\")\n",
    "df3.to_sql(name='info', con=conn, if_exists='replace')\n",
    "conn.close()"
   ]
  },
  {
   "cell_type": "code",
   "execution_count": null,
   "metadata": {},
   "outputs": [],
   "source": []
  }
 ],
 "metadata": {
  "kernelspec": {
   "display_name": "webcrawlers",
   "language": "python",
   "name": "python3"
  },
  "language_info": {
   "codemirror_mode": {
    "name": "ipython",
    "version": 3
   },
   "file_extension": ".py",
   "mimetype": "text/x-python",
   "name": "python",
   "nbconvert_exporter": "python",
   "pygments_lexer": "ipython3",
   "version": "3.12.2"
  }
 },
 "nbformat": 4,
 "nbformat_minor": 2
}
